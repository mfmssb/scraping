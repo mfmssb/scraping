{
 "cells": [
  {
   "cell_type": "code",
   "execution_count": null,
   "metadata": {},
   "outputs": [],
   "source": [
    "\n",
    "import requests\n",
    "from bs4 import BeautifulSoup\n",
    "import json\n",
    "import pandas as pd\n"
   ]
  },
  {
   "cell_type": "code",
   "execution_count": null,
   "metadata": {},
   "outputs": [],
   "source": [
    "# Send a GET request to the URL of the web page you want to scrape\n",
    "response = requests.get(\"https://ordbokene.no/bm/21581\")\n",
    "\n",
    "# Parse the HTML content of the page using BeautifulSoup\n",
    "soup = BeautifulSoup(response.content, \"html.parser\")\n",
    "\n",
    "# Use BeautifulSoup to find the specific elements on the page that contain the data you want to scrape\n",
    "data_elements = soup.find_all(\"span\", class_=\"comma\")\n",
    "\n",
    "# Extract the data from the elements and store it in a list or dictionary\n",
    "data = []\n",
    "for element in data_elements:\n",
    "    data.append(element)"
   ]
  },
  {
   "cell_type": "code",
   "execution_count": null,
   "metadata": {},
   "outputs": [],
   "source": [
    "response = requests.get(\"https://ord.uib.no/bm/article/21581.json\")\n",
    "\n",
    "# Parse the HTML content of the page using BeautifulSoup\n",
    "soup = BeautifulSoup(response.content, \"html.parser\")\n",
    "\n",
    "json_data = json.loads(soup.text)\n",
    "\n",
    "json_data[\"lemmas\"][0][\"paradigm_info\"][0][\"inflection\"][0][\"word_form\"]\n",
    "\n",
    "for word in json_data[\"lemmas\"][0][\"paradigm_info\"][0][\"inflection\"]:\n",
    "    print(word[\"word_form\"])\n"
   ]
  },
  {
   "cell_type": "code",
   "execution_count": null,
   "metadata": {},
   "outputs": [],
   "source": [
    "for i in range(21578,21585):\n",
    "    response = requests.get(f\"https://ord.uib.no/bm/article/{i}.json\")\n",
    "\n",
    "    # Parse the HTML content of the page using BeautifulSoup\n",
    "    soup = BeautifulSoup(response.content, \"html.parser\")\n",
    "\n",
    "    json_data = json.loads(soup.text)\n",
    "\n",
    "    json_data[\"lemmas\"][0][\"paradigm_info\"][0][\"inflection\"][0][\"word_form\"]\n",
    "\n",
    "    for word in json_data[\"lemmas\"][0][\"paradigm_info\"][0][\"inflection\"]:\n",
    "        print(word[\"word_form\"])\n"
   ]
  }
 ],
 "metadata": {
  "kernelspec": {
   "display_name": "Python 3",
   "language": "python",
   "name": "python3"
  },
  "language_info": {
   "codemirror_mode": {
    "name": "ipython",
    "version": 3
   },
   "file_extension": ".py",
   "mimetype": "text/x-python",
   "name": "python",
   "nbconvert_exporter": "python",
   "pygments_lexer": "ipython3",
   "version": "3.11.0"
  },
  "orig_nbformat": 4,
  "vscode": {
   "interpreter": {
    "hash": "3322777fd1eb80d56631ff78795b66dccdf92205c0d7d33b33006785ae206b86"
   }
  }
 },
 "nbformat": 4,
 "nbformat_minor": 2
}
